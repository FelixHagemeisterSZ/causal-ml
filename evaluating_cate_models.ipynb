{
 "cells": [
  {
   "cell_type": "markdown",
   "metadata": {},
   "source": [
    "#################################\n",
    "# Appendix"
   ]
  },
  {
   "cell_type": "markdown",
   "metadata": {},
   "source": [
    "## (1)  Evaluating CATE predictions\n",
    "\n",
    "> Ok, we have a CATE model and its predictions. But how good is it?\n",
    "> * We can't compare actual and predicted values since actual treatment effect is unobserved at a unit level.\n",
    "> * Let's use a traditional train/test split and cross-validation for evaluation."
   ]
  },
  {
   "cell_type": "markdown",
   "metadata": {},
   "source": [
    "### Installations"
   ]
  },
  {
   "cell_type": "code",
   "execution_count": 13,
   "metadata": {},
   "outputs": [
    {
     "name": "stdout",
     "output_type": "stream",
     "text": [
      "Note: you may need to restart the kernel to use updated packages.\n"
     ]
    },
    {
     "name": "stderr",
     "output_type": "stream",
     "text": [
      "\n",
      "[notice] A new release of pip is available: 23.3.2 -> 24.0\n",
      "[notice] To update, run: python.exe -m pip install --upgrade pip\n"
     ]
    }
   ],
   "source": [
    "%pip install -q scikit-learn"
   ]
  },
  {
   "cell_type": "markdown",
   "metadata": {},
   "source": [
    "### Package Imports"
   ]
  },
  {
   "cell_type": "code",
   "execution_count": 3,
   "metadata": {},
   "outputs": [],
   "source": [
    "import pandas as pd\n",
    "import numpy as np\n",
    "import statsmodels.formula.api as smf\n",
    "import matplotlib.pyplot as plt"
   ]
  },
  {
   "cell_type": "markdown",
   "metadata": {},
   "source": [
    "#### Load data again"
   ]
  },
  {
   "cell_type": "code",
   "execution_count": 4,
   "metadata": {},
   "outputs": [],
   "source": [
    "df = pd.read_csv('data.csv')\n",
    "\n",
    "df['day'] = pd.to_datetime(df['day'])\n",
    "df['weekday'] = df['day'].dt.weekday"
   ]
  },
  {
   "cell_type": "markdown",
   "metadata": {},
   "source": [
    "#### Before we start, let's first learn about @curry:"
   ]
  },
  {
   "cell_type": "code",
   "execution_count": 5,
   "metadata": {},
   "outputs": [],
   "source": [
    "from toolz import curry"
   ]
  },
  {
   "cell_type": "code",
   "execution_count": 6,
   "metadata": {},
   "outputs": [
    {
     "name": "stdout",
     "output_type": "stream",
     "text": [
      "10\n",
      "18\n"
     ]
    }
   ],
   "source": [
    "# Curry\n",
    "@curry\n",
    "def addN(x, N):\n",
    "    return x + N\n",
    "\n",
    "ad5 = addN(N=5)\n",
    "ad13 = addN(N=13)\n",
    "\n",
    "print(ad5(5))\n",
    "print(ad13(5))"
   ]
  },
  {
   "cell_type": "markdown",
   "metadata": {},
   "source": [
    "#### Defince a function to get the ATE"
   ]
  },
  {
   "cell_type": "code",
   "execution_count": 7,
   "metadata": {},
   "outputs": [],
   "source": [
    "@curry\n",
    "def effect(data, y, t):\n",
    "    return smf.ols(f\"{y} ~ {t}\", data=data).fit(cov_type='HC2').params[1]"
   ]
  },
  {
   "cell_type": "code",
   "execution_count": 8,
   "metadata": {},
   "outputs": [
    {
     "data": {
      "text/plain": [
       "10.377897351139008"
      ]
     },
     "execution_count": 8,
     "metadata": {},
     "output_type": "execute_result"
    }
   ],
   "source": [
    "# Example\n",
    "effect(df, \"kpi\", \"treated\")"
   ]
  },
  {
   "cell_type": "markdown",
   "metadata": {},
   "source": [
    "### Use a simple train/test-split for cross-validation"
   ]
  },
  {
   "cell_type": "code",
   "execution_count": 9,
   "metadata": {},
   "outputs": [],
   "source": [
    "# Let's make use of the time dimension and define test set to be the last month of the data\n",
    "train = df.query(\"day<'2024-01-21'\")\n",
    "test = df.query(\"day>='2024-01-21'\")"
   ]
  },
  {
   "cell_type": "code",
   "execution_count": 10,
   "metadata": {},
   "outputs": [],
   "source": [
    "# Define feature set and learn the model on the training data\n",
    "X = [\"C(weekday)\", \"ch1\", \"ch2\"]\n",
    "regr_model = smf.ols(f\"kpi ~ treated*({'+'.join(X)})\", data=train).fit(cov_type='HC2')"
   ]
  },
  {
   "cell_type": "code",
   "execution_count": 11,
   "metadata": {},
   "outputs": [],
   "source": [
    "# Get the predicted values on the test set\n",
    "cate_pred = (\n",
    "    regr_model.predict(test.assign(treated=test[\"treated\"]+1))\n",
    "    - regr_model.predict(test)\n",
    ")"
   ]
  },
  {
   "cell_type": "code",
   "execution_count": 14,
   "metadata": {},
   "outputs": [],
   "source": [
    "# Benchmark with purely predictive ML model\n",
    "from sklearn.ensemble import GradientBoostingRegressor\n",
    "\n",
    "X = [\"weekday\", \"ch1\", \"ch2\", \"treated\"]\n",
    "y = \"kpi\"\n",
    "\n",
    "np.random.seed(42)\n",
    "ml_model = GradientBoostingRegressor(n_estimators=50).fit(train[X], train[y])\n",
    "\n",
    "ml_pred = ml_model.predict(test[X])"
   ]
  },
  {
   "cell_type": "code",
   "execution_count": 15,
   "metadata": {},
   "outputs": [],
   "source": [
    "# Store everything in a dataframe\n",
    "test_pred = test.assign(\n",
    "    gradboos_kpi_pred=ml_pred,\n",
    "    cate_pred=cate_pred,\n",
    "    rand_m_pred=np.random.uniform(-1,1,len(test))\n",
    ")"
   ]
  },
  {
   "cell_type": "code",
   "execution_count": 16,
   "metadata": {},
   "outputs": [
    {
     "data": {
      "text/html": [
       "<div>\n",
       "<style scoped>\n",
       "    .dataframe tbody tr th:only-of-type {\n",
       "        vertical-align: middle;\n",
       "    }\n",
       "\n",
       "    .dataframe tbody tr th {\n",
       "        vertical-align: top;\n",
       "    }\n",
       "\n",
       "    .dataframe thead th {\n",
       "        text-align: right;\n",
       "    }\n",
       "</style>\n",
       "<table border=\"1\" class=\"dataframe\">\n",
       "  <thead>\n",
       "    <tr style=\"text-align: right;\">\n",
       "      <th></th>\n",
       "      <th>user_id</th>\n",
       "      <th>day</th>\n",
       "      <th>ch1</th>\n",
       "      <th>ch2</th>\n",
       "      <th>treated</th>\n",
       "      <th>kpi</th>\n",
       "      <th>weekday</th>\n",
       "      <th>gradboos_kpi_pred</th>\n",
       "      <th>cate_pred</th>\n",
       "      <th>rand_m_pred</th>\n",
       "    </tr>\n",
       "  </thead>\n",
       "  <tbody>\n",
       "    <tr>\n",
       "      <th>65</th>\n",
       "      <td>0</td>\n",
       "      <td>2024-01-21</td>\n",
       "      <td>5</td>\n",
       "      <td>4</td>\n",
       "      <td>0</td>\n",
       "      <td>72</td>\n",
       "      <td>6</td>\n",
       "      <td>60.525583</td>\n",
       "      <td>10.096486</td>\n",
       "      <td>0.570352</td>\n",
       "    </tr>\n",
       "    <tr>\n",
       "      <th>66</th>\n",
       "      <td>0</td>\n",
       "      <td>2024-01-22</td>\n",
       "      <td>45</td>\n",
       "      <td>4</td>\n",
       "      <td>0</td>\n",
       "      <td>39</td>\n",
       "      <td>0</td>\n",
       "      <td>43.600034</td>\n",
       "      <td>3.773010</td>\n",
       "      <td>-0.600652</td>\n",
       "    </tr>\n",
       "    <tr>\n",
       "      <th>67</th>\n",
       "      <td>0</td>\n",
       "      <td>2024-01-23</td>\n",
       "      <td>98</td>\n",
       "      <td>4</td>\n",
       "      <td>0</td>\n",
       "      <td>0</td>\n",
       "      <td>1</td>\n",
       "      <td>0.121331</td>\n",
       "      <td>18.624116</td>\n",
       "      <td>0.028469</td>\n",
       "    </tr>\n",
       "    <tr>\n",
       "      <th>68</th>\n",
       "      <td>0</td>\n",
       "      <td>2024-01-24</td>\n",
       "      <td>12</td>\n",
       "      <td>4</td>\n",
       "      <td>0</td>\n",
       "      <td>57</td>\n",
       "      <td>2</td>\n",
       "      <td>62.174531</td>\n",
       "      <td>-4.785771</td>\n",
       "      <td>0.184829</td>\n",
       "    </tr>\n",
       "    <tr>\n",
       "      <th>69</th>\n",
       "      <td>0</td>\n",
       "      <td>2024-01-25</td>\n",
       "      <td>11</td>\n",
       "      <td>4</td>\n",
       "      <td>0</td>\n",
       "      <td>59</td>\n",
       "      <td>3</td>\n",
       "      <td>62.174531</td>\n",
       "      <td>-4.645760</td>\n",
       "      <td>-0.907099</td>\n",
       "    </tr>\n",
       "  </tbody>\n",
       "</table>\n",
       "</div>"
      ],
      "text/plain": [
       "    user_id        day  ch1  ch2  treated  kpi  weekday  gradboos_kpi_pred  \\\n",
       "65        0 2024-01-21    5    4        0   72        6          60.525583   \n",
       "66        0 2024-01-22   45    4        0   39        0          43.600034   \n",
       "67        0 2024-01-23   98    4        0    0        1           0.121331   \n",
       "68        0 2024-01-24   12    4        0   57        2          62.174531   \n",
       "69        0 2024-01-25   11    4        0   59        3          62.174531   \n",
       "\n",
       "    cate_pred  rand_m_pred  \n",
       "65  10.096486     0.570352  \n",
       "66   3.773010    -0.600652  \n",
       "67  18.624116     0.028469  \n",
       "68  -4.785771     0.184829  \n",
       "69  -4.645760    -0.907099  "
      ]
     },
     "execution_count": 16,
     "metadata": {},
     "output_type": "execute_result"
    }
   ],
   "source": [
    "test_pred.head()"
   ]
  },
  {
   "cell_type": "code",
   "execution_count": 17,
   "metadata": {},
   "outputs": [],
   "source": [
    "# Get effect by quantiles\n",
    "def effect_by_quantile(data,pred, y, t, q=10):\n",
    "\n",
    "    # makes quantile partitions\n",
    "    groups = np.round(pd.IntervalIndex(pd.qcut(data[pred], q=q)).mid, 2)\n",
    "\n",
    "    result = pd.DataFrame(data.assign(**{f\"{pred}_quantile\": groups})\n",
    "              .groupby(f\"{pred}_quantile\")\n",
    "              # estimate effect in each quantile\n",
    "              .apply(effect, y=y, t=t), columns = [\"cate_pred\"])\n",
    "\n",
    "    return result"
   ]
  },
  {
   "cell_type": "code",
   "execution_count": 18,
   "metadata": {},
   "outputs": [
    {
     "data": {
      "text/html": [
       "<div>\n",
       "<style scoped>\n",
       "    .dataframe tbody tr th:only-of-type {\n",
       "        vertical-align: middle;\n",
       "    }\n",
       "\n",
       "    .dataframe tbody tr th {\n",
       "        vertical-align: top;\n",
       "    }\n",
       "\n",
       "    .dataframe thead th {\n",
       "        text-align: right;\n",
       "    }\n",
       "</style>\n",
       "<table border=\"1\" class=\"dataframe\">\n",
       "  <thead>\n",
       "    <tr style=\"text-align: right;\">\n",
       "      <th></th>\n",
       "      <th>cate_pred</th>\n",
       "    </tr>\n",
       "    <tr>\n",
       "      <th>cate_pred_quantile</th>\n",
       "      <th></th>\n",
       "    </tr>\n",
       "  </thead>\n",
       "  <tbody>\n",
       "    <tr>\n",
       "      <th>-6.33</th>\n",
       "      <td>-4.722041</td>\n",
       "    </tr>\n",
       "    <tr>\n",
       "      <th>-2.34</th>\n",
       "      <td>-4.366625</td>\n",
       "    </tr>\n",
       "    <tr>\n",
       "      <th>1.40</th>\n",
       "      <td>-0.702253</td>\n",
       "    </tr>\n",
       "    <tr>\n",
       "      <th>5.16</th>\n",
       "      <td>3.927728</td>\n",
       "    </tr>\n",
       "    <tr>\n",
       "      <th>8.63</th>\n",
       "      <td>11.620752</td>\n",
       "    </tr>\n",
       "    <tr>\n",
       "      <th>11.58</th>\n",
       "      <td>16.296635</td>\n",
       "    </tr>\n",
       "    <tr>\n",
       "      <th>14.29</th>\n",
       "      <td>17.380961</td>\n",
       "    </tr>\n",
       "    <tr>\n",
       "      <th>16.95</th>\n",
       "      <td>13.654991</td>\n",
       "    </tr>\n",
       "    <tr>\n",
       "      <th>22.15</th>\n",
       "      <td>19.549823</td>\n",
       "    </tr>\n",
       "    <tr>\n",
       "      <th>30.76</th>\n",
       "      <td>30.386029</td>\n",
       "    </tr>\n",
       "  </tbody>\n",
       "</table>\n",
       "</div>"
      ],
      "text/plain": [
       "                    cate_pred\n",
       "cate_pred_quantile           \n",
       "-6.33               -4.722041\n",
       "-2.34               -4.366625\n",
       " 1.40               -0.702253\n",
       " 5.16                3.927728\n",
       " 8.63               11.620752\n",
       " 11.58              16.296635\n",
       " 14.29              17.380961\n",
       " 16.95              13.654991\n",
       " 22.15              19.549823\n",
       " 30.76              30.386029"
      ]
     },
     "execution_count": 18,
     "metadata": {},
     "output_type": "execute_result"
    }
   ],
   "source": [
    "effect_by_quantile(test_pred, \"cate_pred\", y = \"kpi\", t = \"treated\")"
   ]
  },
  {
   "cell_type": "markdown",
   "metadata": {},
   "source": [
    "> The out-of-sample CATE prediction approximates the \"true\" underlying CATE pretty well."
   ]
  },
  {
   "cell_type": "code",
   "execution_count": 24,
   "metadata": {},
   "outputs": [
    {
     "data": {
      "text/plain": [
       "<Figure size 300x200 with 0 Axes>"
      ]
     },
     "metadata": {},
     "output_type": "display_data"
    },
    {
     "data": {
      "image/png": "[encoded data removed]",
      "text/plain": [
       "<Figure size 640x480 with 1 Axes>"
      ]
     },
     "metadata": {},
     "output_type": "display_data"
    }
   ],
   "source": [
    "# Plot the \"true\" CATE by predicted CATE quantiles from CATE model\n",
    "plt.figure(figsize=(3,2))\n",
    "effect_by_quantile(test_pred, \"cate_pred\", y = \"kpi\", t = \"treated\").plot(kind='bar')\n",
    "plt.xlabel('CATE quantile')\n",
    "plt.ylabel('Effect')\n",
    "plt.title('True CATE by predicted CATE quantiles')\n",
    "plt.show()\n"
   ]
  },
  {
   "cell_type": "code",
   "execution_count": 26,
   "metadata": {},
   "outputs": [
    {
     "data": {
      "text/plain": [
       "<Figure size 300x200 with 0 Axes>"
      ]
     },
     "metadata": {},
     "output_type": "display_data"
    },
    {
     "data": {
      "image/png": "[encoded data removed]",
      "text/plain": [
       "<Figure size 640x480 with 1 Axes>"
      ]
     },
     "metadata": {},
     "output_type": "display_data"
    }
   ],
   "source": [
    "# Plot the \"true\" CATE by predicted CATE quantiles from random benchmark model\n",
    "plt.figure(figsize=(3,2))\n",
    "effect_by_quantile(test_pred, \"rand_m_pred\", y = \"kpi\", t = \"treated\").plot(kind='bar')\n",
    "plt.xlabel('Random prediction quantile')\n",
    "plt.ylabel('Effect')\n",
    "plt.title('True CATE by random prediction quantiles')\n",
    "plt.show()"
   ]
  },
  {
   "cell_type": "markdown",
   "metadata": {},
   "source": [
    "> Random CATE prediction has same estimated effect in all partitions. It won't help with personalisation."
   ]
  },
  {
   "cell_type": "code",
   "execution_count": 28,
   "metadata": {},
   "outputs": [
    {
     "data": {
      "text/plain": [
       "<Figure size 300x200 with 0 Axes>"
      ]
     },
     "metadata": {},
     "output_type": "display_data"
    },
    {
     "data": {
      "image/png": "[encoded data removed]",
      "text/plain": [
       "<Figure size 640x480 with 1 Axes>"
      ]
     },
     "metadata": {},
     "output_type": "display_data"
    }
   ],
   "source": [
    "# Plot the effect by quantiles with a bar chart\n",
    "plt.figure(figsize=(3,2))\n",
    "effect_by_quantile(test_pred, \"gradboos_kpi_pred\", y = \"kpi\", t = \"treated\").plot(kind='bar')\n",
    "plt.xlabel('GradBoost quantile')\n",
    "plt.ylabel('Effect')\n",
    "plt.title('True CATE by GradBoost KPI prediction quantiles')\n",
    "plt.show()"
   ]
  },
  {
   "cell_type": "markdown",
   "metadata": {},
   "source": [
    "> Looks like group with highest KPI probability also benefits most from intervention.\\\n",
    "> But ordering does not work.\\\n",
    "> In fact, ML can have a lower area under the curve (AUC) in the cumulative Gain Curve than the random model!"
   ]
  },
  {
   "cell_type": "markdown",
   "metadata": {},
   "source": [
    "> Conclusion: use CATEs to personalise marketing interventions, not kpi predictions (or some kind of kpi clusters)"
   ]
  }
 ],
 "metadata": {
  "kernelspec": {
   "display_name": "Python 3",
   "language": "python",
   "name": "python3"
  },
  "language_info": {
   "codemirror_mode": {
    "name": "ipython",
    "version": 3
   },
   "file_extension": ".py",
   "mimetype": "text/x-python",
   "name": "python",
   "nbconvert_exporter": "python",
   "pygments_lexer": "ipython3",
   "version": "3.11.1"
  }
 },
 "nbformat": 4,
 "nbformat_minor": 2
}
