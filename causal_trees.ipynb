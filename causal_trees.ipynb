{
 "cells": [
  {
   "cell_type": "markdown",
   "metadata": {},
   "source": [
    "# Causal Trees"
   ]
  },
  {
   "cell_type": "markdown",
   "metadata": {},
   "source": [
    "### Installations"
   ]
  },
  {
   "cell_type": "code",
   "execution_count": 4,
   "metadata": {},
   "outputs": [
    {
     "name": "stdout",
     "output_type": "stream",
     "text": [
      "Note: you may need to restart the kernel to use updated packages.\n"
     ]
    },
    {
     "name": "stderr",
     "output_type": "stream",
     "text": [
      "  WARNING: The script tqdm.exe is installed in 'c:\\Users\\HagemeisteF\\AppData\\Local\\Programs\\Python\\Python311\\Scripts' which is not on PATH.\n",
      "  Consider adding this directory to PATH or, if you prefer to suppress this warning, use --no-warn-script-location.\n",
      "\n",
      "[notice] A new release of pip is available: 23.3.2 -> 24.0\n",
      "[notice] To update, run: python.exe -m pip install --upgrade pip\n"
     ]
    }
   ],
   "source": [
    "%pip install -q econml"
   ]
  },
  {
   "cell_type": "markdown",
   "metadata": {},
   "source": [
    "### Package Imports"
   ]
  },
  {
   "cell_type": "code",
   "execution_count": 9,
   "metadata": {},
   "outputs": [],
   "source": [
    "import pandas as pd\n",
    "from econml.cate_interpreter import SingleTreeCateInterpreter\n",
    "from econml.policy import DRPolicyTree\n",
    "from econml.cate_interpreter import SingleTreePolicyInterpreter\n",
    "from sklearn.model_selection import train_test_split\n",
    "from sklearn.preprocessing import StandardScaler\n",
    "from sklearn.tree import _tree"
   ]
  },
  {
   "cell_type": "markdown",
   "metadata": {},
   "source": [
    "### Class Definitions and Functions"
   ]
  },
  {
   "cell_type": "code",
   "execution_count": 34,
   "metadata": {},
   "outputs": [],
   "source": [
    "class ABCausal:\n",
    "    \n",
    "    def __init__(self, df, test_train_ratio = 0.25, effect_variable = 'Y', treatment_variable = 'T', redundant_features = [], scale_feature_matrix = False):\n",
    "        \n",
    "        self.default_params_causal_tree = {\n",
    "            'max_depth': 4,\n",
    "            'min_samples_split': 1_000,\n",
    "            'min_samples_leaf': 300,\n",
    "            'honest': True,\n",
    "            'random_state': 42,\n",
    "            'mc_iters': 10\n",
    "        }\n",
    "        \n",
    "        if test_train_ratio > 0.0:\n",
    "            self.df_train, self.df_test = train_test_split(df, test_size = test_train_ratio, random_state=42)\n",
    "            self.Y_train, self.T_train, self.X_train = self.return_variables(self.df_train, effect_variable, treatment_variable,\n",
    "                                                                             redundant_features = redundant_features,scale_feature_matrix=scale_feature_matrix)\n",
    "            self.Y_test, self.T_test, self.X_test = self.return_variables(self.df_test, effect_variable, treatment_variable, \n",
    "                                                                          scale_feature_matrix=scale_feature_matrix)\n",
    "       \n",
    "        \n",
    "        else:\n",
    "            self.df_train = df\n",
    "            self.Y_train, self.T_train, self.X_train = self.return_variables(self.df_train, effect_variable, treatment_variable,\n",
    "                                                                             redundant_features = redundant_features, scale_feature_matrix=scale_feature_matrix)\n",
    "\n",
    "    def return_variables(self, df, effect_variable, treatment_variable, redundant_features = [], scale_feature_matrix = False):\n",
    "        \n",
    "        Y = df[effect_variable]\n",
    "        T = df[treatment_variable]\n",
    "        X = df.reset_index(drop=True).drop([effect_variable, treatment_variable] + redundant_features , axis=1)\n",
    "        if scale_feature_matrix:\n",
    "            X = StandardScaler().fit_transform(X)\n",
    "            \n",
    "        return Y, T, X\n",
    "    \n",
    "    \n",
    "        \n",
    "    def return_leaf_node_effectsize(self):\n",
    "        \"\"\"\n",
    "        Terminal Nodes have feature index -2\n",
    "        \"\"\"\n",
    "        \n",
    "        tree = self.causal_tree.policy_model_.tree_model_.tree_\n",
    "        node_values = self.causal_tree.policy_model_.tree_.value\n",
    "        feature, n_samples  = self.return_tree_features(tree) \n",
    "        net_effect =  [n_samples[leaf_node] * (-1) * node_values[leaf_node, 1] for leaf_node in np.where(feature == -2)[0] if node_values[leaf_node, 1] < 0] # effect over status quo: everyone gets treatment (T=1)\n",
    "        #net_effect =  [n_samples[leaf_node] * node_values[leaf_node, 1] for leaf_node in np.where(feature == -2)[0] if node_values[leaf_node, 1] >= 0] # effect over status: everyone gets nothing\n",
    "        n_samples_negative = sum([n_samples[leaf_node] for leaf_node in np.where(feature == -2)[0] if node_values[leaf_node, 1] <= 0])\n",
    "        n_samples_positive = sum([n_samples[leaf_node] for leaf_node in np.where(feature == -2)[0] if node_values[leaf_node, 1] > 0])\n",
    "        percentage_without_email = n_samples_negative / ( n_samples_negative + n_samples_positive)\n",
    "        print(f'{percentage_without_email:.2%} should get no treatment.')\n",
    "\n",
    "        additional_outcomes = sum(net_effect)[0]\n",
    "        n_groups_with_effect = len(net_effect)\n",
    "        # if the tree is honest, only half of the samples are used in the tree evaluation\n",
    "        if self.causal_tree.policy_model_.tree_model_.get_params()[\"honest\"]:\n",
    "            additional_outcomes *= 2\n",
    "        return n_groups_with_effect, additional_outcomes\n",
    "      \n",
    "    def return_tree_features(self, tree): \n",
    "        feature = tree.feature\n",
    "        n_samples = tree.weighted_n_node_samples\n",
    "        return feature, n_samples \n",
    "        \n",
    "    \n",
    "    def define_causal_tree(self, params = None):\n",
    "        if not params:\n",
    "            params = self.default_params_causal_tree\n",
    "        self.causal_tree = DRPolicyTree(**params)\n",
    "        \n",
    "    def fit_causal_tree(self):\n",
    "        self.causal_tree.fit(self.Y_train, self.T_train, X=self.X_train, W=None )\n",
    "        \n",
    "    def return_treatment_mean(self):\n",
    "        return self.causal_tree.predict(self.X_train).mean()   \n",
    "    \n",
    "    def return_outcome_mean(self):\n",
    "        return self.Y_train.mean()\n",
    "    \n",
    "    def return_tree_policy(self):\n",
    "        return self.causal_tree.policy_model_\n",
    "    \n",
    "    def plot_tree(self):\n",
    "        plt.figure(figsize=(100,25))\n",
    "        self.causal_tree.plot()\n",
    "        \n",
    "    def model_causal_tree(self):\n",
    "        self.define_causal_tree(default_params=params)\n",
    "        self.fit_causal_tree()\n",
    "        print(f\"Mean: {self.return_treatment_mean():0.2%}\")\n",
    "        n_groups, additional_outcomes = self.return_leaf_node_effectsize()\n",
    "        self.impact_summary()\n",
    "        self.plot_tree()\n",
    "        #simple_CTR_sales_scaling(additional_outcomes)\n",
    "\n",
    "    \n",
    "    def impact_summary(self):\n",
    "        n_groups, additional_outcomes = self.return_leaf_node_effectsize()\n",
    "        original_outcomes_treatment = int(self.Y_train[self.T_train == 1].sum()/self.T_train.mean())\n",
    "        original_outcomes_no_treatment = int(self.Y_train[self.T_train == 0].sum()/(1 - self.T_train.mean()))\n",
    "    \n",
    "        if isinstance(additional_outcomes, list):\n",
    "            additional_outcomes = additional_outcomes[0]\n",
    "        perc_increase_treatment = additional_outcomes/original_outcomes_treatment\n",
    "        perc_increase_no_treatment = (additional_outcomes+original_outcomes_treatment)/original_outcomes_no_treatment - 1\n",
    "        \n",
    "        print(f\"Causal impact: {float(additional_outcomes):0.2f} additional desired actions in {n_groups} selected target group(s)!\\n\"\n",
    "              f\"This represents a percentage increase of {perc_increase_treatment:.2%} over 100% treatment\\n\"\n",
    "              f\"This represents a percentage increase of {perc_increase_no_treatment:.2%} over 0% treatment\\n\"\n",
    "              f\"0% treatment: {original_outcomes_no_treatment} vs 100% treatment: {original_outcomes_treatment}\"\n",
    "             )"
   ]
  },
  {
   "cell_type": "markdown",
   "metadata": {},
   "source": [
    "### Load Data"
   ]
  },
  {
   "cell_type": "code",
   "execution_count": 36,
   "metadata": {},
   "outputs": [],
   "source": [
    "df = pd.read_csv('data.csv')\n",
    "\n",
    "df['day'] = pd.to_datetime(df['day'])\n",
    "df['weekday'] = df['day'].dt.weekday"
   ]
  },
  {
   "cell_type": "code",
   "execution_count": 37,
   "metadata": {},
   "outputs": [
    {
     "data": {
      "text/html": [
       "<div>\n",
       "<style scoped>\n",
       "    .dataframe tbody tr th:only-of-type {\n",
       "        vertical-align: middle;\n",
       "    }\n",
       "\n",
       "    .dataframe tbody tr th {\n",
       "        vertical-align: top;\n",
       "    }\n",
       "\n",
       "    .dataframe thead th {\n",
       "        text-align: right;\n",
       "    }\n",
       "</style>\n",
       "<table border=\"1\" class=\"dataframe\">\n",
       "  <thead>\n",
       "    <tr style=\"text-align: right;\">\n",
       "      <th></th>\n",
       "      <th>user_id</th>\n",
       "      <th>day</th>\n",
       "      <th>ch1</th>\n",
       "      <th>ch2</th>\n",
       "      <th>treated</th>\n",
       "      <th>kpi</th>\n",
       "      <th>weekday</th>\n",
       "    </tr>\n",
       "  </thead>\n",
       "  <tbody>\n",
       "    <tr>\n",
       "      <th>0</th>\n",
       "      <td>0</td>\n",
       "      <td>2023-11-17</td>\n",
       "      <td>19</td>\n",
       "      <td>4</td>\n",
       "      <td>0</td>\n",
       "      <td>70</td>\n",
       "      <td>4</td>\n",
       "    </tr>\n",
       "    <tr>\n",
       "      <th>1</th>\n",
       "      <td>0</td>\n",
       "      <td>2023-11-18</td>\n",
       "      <td>62</td>\n",
       "      <td>4</td>\n",
       "      <td>0</td>\n",
       "      <td>27</td>\n",
       "      <td>5</td>\n",
       "    </tr>\n",
       "    <tr>\n",
       "      <th>2</th>\n",
       "      <td>0</td>\n",
       "      <td>2023-11-19</td>\n",
       "      <td>43</td>\n",
       "      <td>4</td>\n",
       "      <td>0</td>\n",
       "      <td>42</td>\n",
       "      <td>6</td>\n",
       "    </tr>\n",
       "    <tr>\n",
       "      <th>3</th>\n",
       "      <td>0</td>\n",
       "      <td>2023-11-20</td>\n",
       "      <td>78</td>\n",
       "      <td>4</td>\n",
       "      <td>0</td>\n",
       "      <td>4</td>\n",
       "      <td>0</td>\n",
       "    </tr>\n",
       "    <tr>\n",
       "      <th>4</th>\n",
       "      <td>0</td>\n",
       "      <td>2023-11-21</td>\n",
       "      <td>77</td>\n",
       "      <td>4</td>\n",
       "      <td>0</td>\n",
       "      <td>21</td>\n",
       "      <td>1</td>\n",
       "    </tr>\n",
       "  </tbody>\n",
       "</table>\n",
       "</div>"
      ],
      "text/plain": [
       "   user_id        day  ch1  ch2  treated  kpi  weekday\n",
       "0        0 2023-11-17   19    4        0   70        4\n",
       "1        0 2023-11-18   62    4        0   27        5\n",
       "2        0 2023-11-19   43    4        0   42        6\n",
       "3        0 2023-11-20   78    4        0    4        0\n",
       "4        0 2023-11-21   77    4        0   21        1"
      ]
     },
     "execution_count": 37,
     "metadata": {},
     "output_type": "execute_result"
    }
   ],
   "source": [
    "df.head()"
   ]
  },
  {
   "cell_type": "code",
   "execution_count": 38,
   "metadata": {},
   "outputs": [],
   "source": [
    "df = df.apply(pd.to_numeric, errors='coerce')"
   ]
  },
  {
   "cell_type": "markdown",
   "metadata": {},
   "source": [
    "### Fit Causal Tree"
   ]
  },
  {
   "cell_type": "code",
   "execution_count": 43,
   "metadata": {},
   "outputs": [],
   "source": [
    "abc = ABCausal(df, effect_variable = 'kpi', treatment_variable = 'treated',redundant_features=['day'], scale_feature_matrix = True)"
   ]
  },
  {
   "cell_type": "code",
   "execution_count": 45,
   "metadata": {},
   "outputs": [],
   "source": [
    "abc.define_causal_tree()\n",
    "abc.fit_causal_tree()"
   ]
  },
  {
   "cell_type": "code",
   "execution_count": null,
   "metadata": {},
   "outputs": [],
   "source": [
    " print(f\"Mean: {self.return_treatment_mean():0.2%}\")"
   ]
  },
  {
   "cell_type": "code",
   "execution_count": null,
   "metadata": {},
   "outputs": [
    {
     "ename": "AttributeError",
     "evalue": "'_PolicyModelFinal' object has no attribute 'model_cate'",
     "output_type": "error",
     "traceback": [
      "\u001b[1;31m---------------------------------------------------------------------------\u001b[0m",
      "\u001b[1;31mAttributeError\u001b[0m                            Traceback (most recent call last)",
      "Cell \u001b[1;32mIn[26], line 2\u001b[0m\n\u001b[0;32m      1\u001b[0m \u001b[38;5;66;03m# Plot\u001b[39;00m\n\u001b[1;32m----> 2\u001b[0m \u001b[43mabc\u001b[49m\u001b[38;5;241;43m.\u001b[39;49m\u001b[43mcausal_tree\u001b[49m\u001b[38;5;241;43m.\u001b[39;49m\u001b[43mplot\u001b[49m\u001b[43m(\u001b[49m\u001b[43m)\u001b[49m\n",
      "File \u001b[1;32mc:\\Users\\HagemeisteF\\AppData\\Local\\Programs\\Python\\Python311\\Lib\\site-packages\\econml\\policy\\_drlearner.py:478\u001b[0m, in \u001b[0;36mDRPolicyTree.plot\u001b[1;34m(self, feature_names, treatment_names, ax, title, max_depth, filled, rounded, precision, fontsize)\u001b[0m\n\u001b[0;32m    440\u001b[0m \u001b[38;5;28;01mdef\u001b[39;00m \u001b[38;5;21mplot\u001b[39m(\u001b[38;5;28mself\u001b[39m, \u001b[38;5;241m*\u001b[39m, feature_names\u001b[38;5;241m=\u001b[39m\u001b[38;5;28;01mNone\u001b[39;00m, treatment_names\u001b[38;5;241m=\u001b[39m\u001b[38;5;28;01mNone\u001b[39;00m, ax\u001b[38;5;241m=\u001b[39m\u001b[38;5;28;01mNone\u001b[39;00m, title\u001b[38;5;241m=\u001b[39m\u001b[38;5;28;01mNone\u001b[39;00m,\n\u001b[0;32m    441\u001b[0m          max_depth\u001b[38;5;241m=\u001b[39m\u001b[38;5;28;01mNone\u001b[39;00m, filled\u001b[38;5;241m=\u001b[39m\u001b[38;5;28;01mTrue\u001b[39;00m, rounded\u001b[38;5;241m=\u001b[39m\u001b[38;5;28;01mTrue\u001b[39;00m, precision\u001b[38;5;241m=\u001b[39m\u001b[38;5;241m3\u001b[39m, fontsize\u001b[38;5;241m=\u001b[39m\u001b[38;5;28;01mNone\u001b[39;00m):\n\u001b[0;32m    442\u001b[0m \u001b[38;5;250m    \u001b[39m\u001b[38;5;124;03m\"\"\"\u001b[39;00m\n\u001b[0;32m    443\u001b[0m \u001b[38;5;124;03m    Exports policy trees to matplotlib\u001b[39;00m\n\u001b[0;32m    444\u001b[0m \n\u001b[1;32m   (...)\u001b[0m\n\u001b[0;32m    476\u001b[0m \u001b[38;5;124;03m        Font size for text\u001b[39;00m\n\u001b[0;32m    477\u001b[0m \u001b[38;5;124;03m    \"\"\"\u001b[39;00m\n\u001b[1;32m--> 478\u001b[0m     \u001b[38;5;28;01mreturn\u001b[39;00m \u001b[38;5;28;43mself\u001b[39;49m\u001b[38;5;241;43m.\u001b[39;49m\u001b[43mpolicy_model_\u001b[49m\u001b[38;5;241m.\u001b[39mplot(feature_names\u001b[38;5;241m=\u001b[39m\u001b[38;5;28mself\u001b[39m\u001b[38;5;241m.\u001b[39mpolicy_feature_names(feature_names\u001b[38;5;241m=\u001b[39mfeature_names),\n\u001b[0;32m    479\u001b[0m                                    treatment_names\u001b[38;5;241m=\u001b[39m\u001b[38;5;28mself\u001b[39m\u001b[38;5;241m.\u001b[39mpolicy_treatment_names(treatment_names\u001b[38;5;241m=\u001b[39mtreatment_names),\n\u001b[0;32m    480\u001b[0m                                    ax\u001b[38;5;241m=\u001b[39max,\n\u001b[0;32m    481\u001b[0m                                    title\u001b[38;5;241m=\u001b[39mtitle,\n\u001b[0;32m    482\u001b[0m                                    max_depth\u001b[38;5;241m=\u001b[39mmax_depth,\n\u001b[0;32m    483\u001b[0m                                    filled\u001b[38;5;241m=\u001b[39mfilled,\n\u001b[0;32m    484\u001b[0m                                    rounded\u001b[38;5;241m=\u001b[39mrounded,\n\u001b[0;32m    485\u001b[0m                                    precision\u001b[38;5;241m=\u001b[39mprecision,\n\u001b[0;32m    486\u001b[0m                                    fontsize\u001b[38;5;241m=\u001b[39mfontsize)\n",
      "File \u001b[1;32mc:\\Users\\HagemeisteF\\AppData\\Local\\Programs\\Python\\Python311\\Lib\\site-packages\\econml\\policy\\_drlearner.py:205\u001b[0m, in \u001b[0;36m_BaseDRPolicyLearner.policy_model_\u001b[1;34m(self)\u001b[0m\n\u001b[0;32m    201\u001b[0m \u001b[38;5;129m@property\u001b[39m\n\u001b[0;32m    202\u001b[0m \u001b[38;5;28;01mdef\u001b[39;00m \u001b[38;5;21mpolicy_model_\u001b[39m(\u001b[38;5;28mself\u001b[39m):\n\u001b[0;32m    203\u001b[0m \u001b[38;5;250m    \u001b[39m\u001b[38;5;124;03m\"\"\" The trained final stage policy model\u001b[39;00m\n\u001b[0;32m    204\u001b[0m \u001b[38;5;124;03m    \"\"\"\u001b[39;00m\n\u001b[1;32m--> 205\u001b[0m     \u001b[38;5;28;01mreturn\u001b[39;00m \u001b[38;5;28;43mself\u001b[39;49m\u001b[38;5;241;43m.\u001b[39;49m\u001b[43mdrlearner_\u001b[49m\u001b[38;5;241;43m.\u001b[39;49m\u001b[43mmultitask_model_cate\u001b[49m\n",
      "File \u001b[1;32mc:\\Users\\HagemeisteF\\AppData\\Local\\Programs\\Python\\Python311\\Lib\\site-packages\\econml\\dr\\_drlearner.py:629\u001b[0m, in \u001b[0;36mDRLearner.multitask_model_cate\u001b[1;34m(self)\u001b[0m\n\u001b[0;32m    627\u001b[0m \u001b[38;5;28;01mif\u001b[39;00m \u001b[38;5;129;01mnot\u001b[39;00m \u001b[38;5;28mself\u001b[39m\u001b[38;5;241m.\u001b[39mortho_learner_model_final_\u001b[38;5;241m.\u001b[39m_multitask_model_final:\n\u001b[0;32m    628\u001b[0m     \u001b[38;5;28;01mraise\u001b[39;00m \u001b[38;5;167;01mAttributeError\u001b[39;00m(\u001b[38;5;124m\"\u001b[39m\u001b[38;5;124mSeparate CATE models were fitted for each treatment! Use model_cate.\u001b[39m\u001b[38;5;124m\"\u001b[39m)\n\u001b[1;32m--> 629\u001b[0m \u001b[38;5;28;01mreturn\u001b[39;00m \u001b[38;5;28;43mself\u001b[39;49m\u001b[38;5;241;43m.\u001b[39;49m\u001b[43mortho_learner_model_final_\u001b[49m\u001b[38;5;241;43m.\u001b[39;49m\u001b[43mmodel_cate\u001b[49m\n",
      "\u001b[1;31mAttributeError\u001b[0m: '_PolicyModelFinal' object has no attribute 'model_cate'"
     ]
    }
   ],
   "source": [
    "# Plot\n",
    "abc.causal_tree.plot()"
   ]
  },
  {
   "cell_type": "code",
   "execution_count": null,
   "metadata": {},
   "outputs": [],
   "source": [
    "# Impact Summary\n",
    "abc.impact_summary()"
   ]
  },
  {
   "cell_type": "code",
   "execution_count": null,
   "metadata": {},
   "outputs": [],
   "source": [
    "dd"
   ]
  }
 ],
 "metadata": {
  "kernelspec": {
   "display_name": "Python 3",
   "language": "python",
   "name": "python3"
  },
  "language_info": {
   "codemirror_mode": {
    "name": "ipython",
    "version": 3
   },
   "file_extension": ".py",
   "mimetype": "text/x-python",
   "name": "python",
   "nbconvert_exporter": "python",
   "pygments_lexer": "ipython3",
   "version": "3.11.1"
  }
 },
 "nbformat": 4,
 "nbformat_minor": 2
}
