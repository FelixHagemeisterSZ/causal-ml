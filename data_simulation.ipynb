{
 "cells": [
  {
   "cell_type": "markdown",
   "metadata": {},
   "source": [
    "## Data Simulation for Causal ML Workshop Data Science Day Prague"
   ]
  },
  {
   "cell_type": "code",
   "execution_count": 1,
   "metadata": {},
   "outputs": [],
   "source": [
    "import pandas as pd\n",
    "import numpy as np"
   ]
  },
  {
   "cell_type": "code",
   "execution_count": 2,
   "metadata": {},
   "outputs": [
    {
     "data": {
      "text/html": [
       "<div>\n",
       "<style scoped>\n",
       "    .dataframe tbody tr th:only-of-type {\n",
       "        vertical-align: middle;\n",
       "    }\n",
       "\n",
       "    .dataframe tbody tr th {\n",
       "        vertical-align: top;\n",
       "    }\n",
       "\n",
       "    .dataframe thead th {\n",
       "        text-align: right;\n",
       "    }\n",
       "</style>\n",
       "<table border=\"1\" class=\"dataframe\">\n",
       "  <thead>\n",
       "    <tr style=\"text-align: right;\">\n",
       "      <th></th>\n",
       "      <th>user_id</th>\n",
       "      <th>day</th>\n",
       "      <th>ch1</th>\n",
       "      <th>ch2</th>\n",
       "      <th>treated</th>\n",
       "      <th>weekday</th>\n",
       "      <th>kpi</th>\n",
       "    </tr>\n",
       "  </thead>\n",
       "  <tbody>\n",
       "    <tr>\n",
       "      <th>0</th>\n",
       "      <td>0</td>\n",
       "      <td>2023-11-17</td>\n",
       "      <td>19</td>\n",
       "      <td>4</td>\n",
       "      <td>0</td>\n",
       "      <td>4</td>\n",
       "      <td>70</td>\n",
       "    </tr>\n",
       "    <tr>\n",
       "      <th>1</th>\n",
       "      <td>0</td>\n",
       "      <td>2023-11-18</td>\n",
       "      <td>62</td>\n",
       "      <td>4</td>\n",
       "      <td>0</td>\n",
       "      <td>5</td>\n",
       "      <td>27</td>\n",
       "    </tr>\n",
       "    <tr>\n",
       "      <th>2</th>\n",
       "      <td>0</td>\n",
       "      <td>2023-11-19</td>\n",
       "      <td>43</td>\n",
       "      <td>4</td>\n",
       "      <td>0</td>\n",
       "      <td>6</td>\n",
       "      <td>42</td>\n",
       "    </tr>\n",
       "    <tr>\n",
       "      <th>3</th>\n",
       "      <td>0</td>\n",
       "      <td>2023-11-20</td>\n",
       "      <td>78</td>\n",
       "      <td>4</td>\n",
       "      <td>0</td>\n",
       "      <td>0</td>\n",
       "      <td>4</td>\n",
       "    </tr>\n",
       "    <tr>\n",
       "      <th>4</th>\n",
       "      <td>0</td>\n",
       "      <td>2023-11-21</td>\n",
       "      <td>77</td>\n",
       "      <td>4</td>\n",
       "      <td>0</td>\n",
       "      <td>1</td>\n",
       "      <td>21</td>\n",
       "    </tr>\n",
       "  </tbody>\n",
       "</table>\n",
       "</div>"
      ],
      "text/plain": [
       "   user_id        day  ch1  ch2  treated  weekday  kpi\n",
       "0        0 2023-11-17   19    4        0        4   70\n",
       "1        0 2023-11-18   62    4        0        5   27\n",
       "2        0 2023-11-19   43    4        0        6   42\n",
       "3        0 2023-11-20   78    4        0        0    4\n",
       "4        0 2023-11-21   77    4        0        1   21"
      ]
     },
     "execution_count": 2,
     "metadata": {},
     "output_type": "execute_result"
    }
   ],
   "source": [
    "# Set the seed for reproducibility\n",
    "np.random.seed(1234)\n",
    "\n",
    "# Set the number of users and unique days\n",
    "num_users = 1000\n",
    "num_days = 3 * 31\n",
    "\n",
    "# Generate user_id, day, and characteristic columns\n",
    "user_ids = np.repeat(range(num_users), num_days)\n",
    "days = pd.date_range(start='2023-11-17', periods=num_days, freq='D')\n",
    "ch1 = np.random.uniform(0, 100, num_users * num_days).astype(int)\n",
    "ch2 = np.random.randint(0, 10, num_users)\n",
    "\n",
    "# Generate treated column\n",
    "treated = np.random.choice([0, 1], num_users,  p=[0.8, 0.2])\n",
    "#treated = np.random.uniform(0, 10, num_users * num_days).astype(int)\n",
    "\n",
    "# Create the dataframe\n",
    "df = pd.DataFrame({\n",
    "    'user_id': user_ids,\n",
    "    'day': np.tile(days, num_users),\n",
    "    'ch1': ch1,\n",
    "    'ch2': np.repeat(ch2, num_days),\n",
    "    'treated': np.repeat(treated, num_days),\n",
    "})\n",
    "\n",
    "df['day'] = pd.to_datetime(df['day'])\n",
    "df['weekday'] = df['day'].dt.weekday\n",
    "\n",
    "# Simulate kpi data generating process\n",
    "df['kpi'] = 50 \\\n",
    "            + 0.5 * df['treated'] \\\n",
    "            + 0.02 * df['treated'] * df['ch2'] \\\n",
    "            - 0.05 * df['treated'] * df['ch1'] \\\n",
    "            - 0.001 * df['treated'] * df['ch2']**2 \\\n",
    "            + 0.005 * df['treated'] * df['ch1']**2 \\\n",
    "            + 0.05 * df['treated'] * df['weekday']**2 \\\n",
    "            + 0.005 * df['ch1'] \\\n",
    "            - 0.01 * df['ch1']**2 \\\n",
    "            + 0.05 * df['ch2'] \\\n",
    "            + 0.01 * df['ch2']**2 \\\n",
    "            - 0.01 * df['weekday'] \\\n",
    "            + 0.05 * df['weekday']**2 \\\n",
    "            - 0.03 * df['weekday']**3 \\\n",
    "            + np.random.uniform(0, 30, num_users * num_days)\n",
    "\n",
    "df.loc[(df['weekday'] >= 5) & (df['treated'] == 1), 'kpi'] += 10\n",
    "df.loc[(df['weekday'] < 5) & (df['treated'] == 1), 'kpi'] -= 6\n",
    "\n",
    "df['kpi'] = df['kpi'].apply(lambda x: max(0, x)).astype(int)\n",
    "\n",
    "# Convert day column to pandas datetime format\n",
    "df['day'] = pd.to_datetime(df['day'])\n",
    "\n",
    "# Display the dataframe\n",
    "df.head()\n"
   ]
  },
  {
   "cell_type": "code",
   "execution_count": 3,
   "metadata": {},
   "outputs": [
    {
     "data": {
      "text/plain": [
       "(93000, 7)"
      ]
     },
     "execution_count": 3,
     "metadata": {},
     "output_type": "execute_result"
    }
   ],
   "source": [
    "df.shape"
   ]
  },
  {
   "cell_type": "code",
   "execution_count": 4,
   "metadata": {},
   "outputs": [
    {
     "data": {
      "text/plain": [
       "0    75795\n",
       "1    17205\n",
       "Name: treated, dtype: int64"
      ]
     },
     "execution_count": 4,
     "metadata": {},
     "output_type": "execute_result"
    }
   ],
   "source": [
    "df.treated.value_counts()"
   ]
  },
  {
   "cell_type": "code",
   "execution_count": 5,
   "metadata": {},
   "outputs": [
    {
     "data": {
      "text/plain": [
       "<Axes: >"
      ]
     },
     "execution_count": 5,
     "metadata": {},
     "output_type": "execute_result"
    },
    {
     "data": {
      "image/png": "[encoded data removed]",
      "text/plain": [
       "<Figure size 640x480 with 1 Axes>"
      ]
     },
     "metadata": {},
     "output_type": "display_data"
    }
   ],
   "source": [
    "df.kpi.hist()"
   ]
  },
  {
   "cell_type": "code",
   "execution_count": 6,
   "metadata": {},
   "outputs": [],
   "source": [
    "df = df.drop(columns= 'weekday')"
   ]
  },
  {
   "cell_type": "code",
   "execution_count": 7,
   "metadata": {},
   "outputs": [],
   "source": [
    "df.to_csv('data.csv', index=False)"
   ]
  }
 ],
 "metadata": {
  "kernelspec": {
   "display_name": "Python 3",
   "language": "python",
   "name": "python3"
  },
  "language_info": {
   "codemirror_mode": {
    "name": "ipython",
    "version": 3
   },
   "file_extension": ".py",
   "mimetype": "text/x-python",
   "name": "python",
   "nbconvert_exporter": "python",
   "pygments_lexer": "ipython3",
   "version": "3.11.1"
  }
 },
 "nbformat": 4,
 "nbformat_minor": 2
}
